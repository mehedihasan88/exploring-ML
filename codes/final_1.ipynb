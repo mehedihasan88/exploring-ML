{
 "cells": [
  {
   "cell_type": "markdown",
   "metadata": {},
   "source": [
    "Code implementation of - **A. Alahmadi, M. Hussain, H. Aboalsamh, G. Muhammad, G. Bebis, and H. Mathkour, “Passive detection of image forgery using dct and local binary pattern,” Signal, Image and Video Processing, vol. 11, no. 1, pp. 81–88, Jan 2017. [Online]. Available: https://doi.org/10.1007/s11760-016-0899-0**"
   ]
  },
  {
   "cell_type": "code",
   "execution_count": 1,
   "metadata": {},
   "outputs": [],
   "source": [
    "import cv2\n",
    "import numpy as np\n",
    "import pandas as pd\n",
    "import matplotlib.pyplot as plt\n",
    "import os\n",
    "import random\n",
    "import seaborn as sns\n",
    "from scipy.fftpack import dct\n",
    "from skimage.feature import local_binary_pattern\n",
    "from sklearn.model_selection import train_test_split\n",
    "from sklearn.model_selection import KFold\n",
    "from sklearn.model_selection import cross_val_score\n",
    "from sklearn.metrics import classification_report\n",
    "from sklearn.metrics import confusion_matrix\n",
    "from sklearn.metrics import accuracy_score\n",
    "from sklearn import metrics\n",
    "from sklearn.svm import SVC\n",
    "from sklearn.preprocessing import MinMaxScaler"
   ]
  },
  {
   "cell_type": "code",
   "execution_count": 2,
   "metadata": {},
   "outputs": [
    {
     "data": {
      "text/plain": [
       "8"
      ]
     },
     "execution_count": 2,
     "metadata": {},
     "output_type": "execute_result"
    }
   ],
   "source": [
    "# Block-size (non-overlapping)\n",
    "split_width = 16\n",
    "split_height = 16\n",
    "\n",
    "# LBP parameters\n",
    "P = 8\n",
    "R = 1.0\n",
    "P"
   ]
  },
  {
   "cell_type": "code",
   "execution_count": 3,
   "metadata": {},
   "outputs": [],
   "source": [
    "# This function devides an image into blocks\n",
    "# parameters\n",
    "#     parameter(1) : size of the image\n",
    "#     parameter(2) : splitting size\n",
    "#     parameter(3) : amount of overlapping (by default 0)\n",
    "# return type  : return a list of starting points of the blocks\n",
    "\n",
    "def start_points(size, split_size, overlap=0):\n",
    "    points = [0]\n",
    "    stride = int(split_size * (1-overlap))\n",
    "    counter = 1\n",
    "    while True:\n",
    "        pt = stride * counter\n",
    "        if pt + split_size >= size:\n",
    "            points.append(size - split_size)\n",
    "            break\n",
    "        else:\n",
    "            points.append(pt)\n",
    "        counter += 1\n",
    "    return points"
   ]
  },
  {
   "cell_type": "code",
   "execution_count": 4,
   "metadata": {},
   "outputs": [],
   "source": [
    "# This function extracts features from all the images in a folder\n",
    "# parameters : \n",
    "#     parameter(1) : path to the folder\n",
    "#     parameter(2) : class label of the images in that folder(forged or not)\n",
    "# return types : stores the features in the list \n",
    "\n",
    "def feature_extraction(path_to_folder, class_label):\n",
    "    for file_name in os.listdir(path_to_folder):\n",
    "        \n",
    "        # join image file name with the path to the folder\n",
    "        # to get full path of the image file\n",
    "        path_to_img = os.path.join(path_to_folder,file_name)\n",
    "        img = cv2.imread(path_to_img)\n",
    "        \n",
    "        \n",
    "        \n",
    "        # if the image file is empty or didn't load continue from beginining\n",
    "        if np.shape(img) == ():\n",
    "            continue\n",
    "            \n",
    "        # converts the image into YCrCb color space and take the Cr component only\n",
    "        img = cv2.cvtColor(img, cv2.COLOR_BGR2YCrCb) \n",
    "        img = img[:,:,1]\n",
    "        img_h, img_w = img.shape\n",
    "        \n",
    "        \n",
    "        # calculates the starting points of the blocks\n",
    "        X_points = start_points(img_w, split_width, 0.0)\n",
    "        Y_points = start_points(img_h, split_height, 0.0)\n",
    "        \n",
    "        \n",
    "        # calculates dct for eact block of an image\n",
    "        dct_blocks=[]\n",
    "        for i in Y_points:\n",
    "            for j in X_points:\n",
    "                block = img[i:i+split_height, j:j+split_width] # contains the non-overlapping block \n",
    "                lbp = local_binary_pattern(block, P, R, method='default')\n",
    "                dct_block = dct(lbp, type=2, n=None, axis=-1, norm=None, overwrite_x=False)\n",
    "                dct_blocks.append(dct_block)\n",
    "        \n",
    "        dct_blocks_array=np.asarray(dct_blocks)\n",
    "        \n",
    "        _,r,c=dct_blocks_array.shape\n",
    "        \n",
    "        \n",
    "        img_std_list=[] #length should be r*c i.e 16*16=256 in our case.\n",
    "        with_name_list=[file_name,class_label]\n",
    "        \n",
    "        for x in range(r):\n",
    "            for y in range(c):\n",
    "                pixel_depth_subarr = dct_blocks_array[:,x,y]\n",
    "                std = np.std(pixel_depth_subarr)\n",
    "                img_std_list.append(std)\n",
    "                with_name_list.append(std)\n",
    "        \n",
    "        #name_list.append(file_name) \n",
    "        #feature_vector.append(img_std_list)\n",
    "        #label.append(class_label)\n",
    "        dataframe_list.append(with_name_list)"
   ]
  },
  {
   "cell_type": "code",
   "execution_count": 5,
   "metadata": {},
   "outputs": [
    {
     "data": {
      "text/plain": [
       "16"
      ]
     },
     "execution_count": 5,
     "metadata": {},
     "output_type": "execute_result"
    }
   ],
   "source": [
    "split_width"
   ]
  },
  {
   "cell_type": "code",
   "execution_count": 6,
   "metadata": {
    "scrolled": false
   },
   "outputs": [],
   "source": [
    "#feature_vector=[]\n",
    "#label=[]\n",
    "# name_list=[]\n",
    "dataframe_list=[]\n",
    "\n",
    "# #CASIA V1.0 dataset\n",
    "au_path = \"E:\\FinalProject\\learning\\dataset\\working\\CASIA1\\Au\\Au\" \n",
    "tp_path1 = \"E:\\FinalProject\\learning\\dataset\\working\\CASIA1\\Modified Tp\\Tp\\CM\"\n",
    "tp_path2 = \"E:\\FinalProject\\learning\\dataset\\working\\CASIA1\\Modified Tp\\Tp\\Sp\"\n",
    "feature_extraction(au_path, 0)\n",
    "feature_extraction(tp_path1, 1)\n",
    "feature_extraction(tp_path2, 1)\n",
    "# Columbia dataset\n",
    "# au_path=\"YOUR_PATH/Columbia_ImSpliceDataset/authentic\"\n",
    "# tp_path=\"YOUR_PATH/Columbia_ImSpliceDataset/spliced\"\n",
    "# feature_extraction(au_path, 0)\n",
    "# feature_extraction(tp_path, 1)\n",
    "\n",
    "# CASIA V2.0 Dataset\n",
    "# au_path=\"YOUR_PATH/CASIA2.0_revised/Au\"\n",
    "# tp_path=\"YOUR_PATH/CASIA2.0_revised/Tp\"\n",
    "# feature_extraction(au_path, 0)\n",
    "# feature_extraction(tp_path, 1)"
   ]
  },
  {
   "cell_type": "code",
   "execution_count": 7,
   "metadata": {},
   "outputs": [],
   "source": [
    "#print(\"Length/Dimension of features\", len(feature_vector[0]))\n",
    "#print(\"Length of feature vector\", len(feature_vector))\n",
    "#print(\"length of label\",len(label))"
   ]
  },
  {
   "cell_type": "code",
   "execution_count": 8,
   "metadata": {
    "scrolled": false
   },
   "outputs": [
    {
     "data": {
      "text/html": [
       "<div>\n",
       "<style scoped>\n",
       "    .dataframe tbody tr th:only-of-type {\n",
       "        vertical-align: middle;\n",
       "    }\n",
       "\n",
       "    .dataframe tbody tr th {\n",
       "        vertical-align: top;\n",
       "    }\n",
       "\n",
       "    .dataframe thead th {\n",
       "        text-align: right;\n",
       "    }\n",
       "</style>\n",
       "<table border=\"1\" class=\"dataframe\">\n",
       "  <thead>\n",
       "    <tr style=\"text-align: right;\">\n",
       "      <th></th>\n",
       "      <th>image_names</th>\n",
       "      <th>1</th>\n",
       "      <th>2</th>\n",
       "      <th>3</th>\n",
       "      <th>4</th>\n",
       "      <th>5</th>\n",
       "      <th>6</th>\n",
       "      <th>7</th>\n",
       "      <th>8</th>\n",
       "      <th>9</th>\n",
       "      <th>...</th>\n",
       "      <th>248</th>\n",
       "      <th>249</th>\n",
       "      <th>250</th>\n",
       "      <th>251</th>\n",
       "      <th>252</th>\n",
       "      <th>253</th>\n",
       "      <th>254</th>\n",
       "      <th>255</th>\n",
       "      <th>256</th>\n",
       "      <th>257</th>\n",
       "    </tr>\n",
       "  </thead>\n",
       "  <tbody>\n",
       "    <tr>\n",
       "      <th>1716</th>\n",
       "      <td>Sp_D_NRN_R_arc0051_arc0073_0569.jpg</td>\n",
       "      <td>1</td>\n",
       "      <td>1891.898586</td>\n",
       "      <td>476.644343</td>\n",
       "      <td>226.568475</td>\n",
       "      <td>252.196192</td>\n",
       "      <td>229.521211</td>\n",
       "      <td>180.469856</td>\n",
       "      <td>190.614167</td>\n",
       "      <td>213.391685</td>\n",
       "      <td>...</td>\n",
       "      <td>27.379336</td>\n",
       "      <td>27.040679</td>\n",
       "      <td>23.978827</td>\n",
       "      <td>22.632958</td>\n",
       "      <td>23.835544</td>\n",
       "      <td>28.285079</td>\n",
       "      <td>27.892339</td>\n",
       "      <td>33.264917</td>\n",
       "      <td>28.628263</td>\n",
       "      <td>29.346154</td>\n",
       "    </tr>\n",
       "    <tr>\n",
       "      <th>1717</th>\n",
       "      <td>Sp_D_NRN_R_art0008_sec0027_0570.jpg</td>\n",
       "      <td>1</td>\n",
       "      <td>1348.348380</td>\n",
       "      <td>534.776422</td>\n",
       "      <td>275.465382</td>\n",
       "      <td>287.365557</td>\n",
       "      <td>230.245279</td>\n",
       "      <td>236.286385</td>\n",
       "      <td>201.851711</td>\n",
       "      <td>213.731255</td>\n",
       "      <td>...</td>\n",
       "      <td>32.907943</td>\n",
       "      <td>25.687967</td>\n",
       "      <td>27.996128</td>\n",
       "      <td>25.256144</td>\n",
       "      <td>30.256779</td>\n",
       "      <td>36.373091</td>\n",
       "      <td>30.230063</td>\n",
       "      <td>38.710832</td>\n",
       "      <td>34.857002</td>\n",
       "      <td>34.548036</td>\n",
       "    </tr>\n",
       "    <tr>\n",
       "      <th>1718</th>\n",
       "      <td>Sp_D_NRN_R_cha0054_cha0017_0571.jpg</td>\n",
       "      <td>1</td>\n",
       "      <td>1605.189544</td>\n",
       "      <td>804.477093</td>\n",
       "      <td>620.934011</td>\n",
       "      <td>447.221841</td>\n",
       "      <td>375.279524</td>\n",
       "      <td>283.169035</td>\n",
       "      <td>314.279600</td>\n",
       "      <td>300.789602</td>\n",
       "      <td>...</td>\n",
       "      <td>34.558033</td>\n",
       "      <td>35.894729</td>\n",
       "      <td>35.529211</td>\n",
       "      <td>41.143273</td>\n",
       "      <td>39.416597</td>\n",
       "      <td>40.713021</td>\n",
       "      <td>42.694143</td>\n",
       "      <td>45.798662</td>\n",
       "      <td>42.278111</td>\n",
       "      <td>61.653876</td>\n",
       "    </tr>\n",
       "    <tr>\n",
       "      <th>1719</th>\n",
       "      <td>Sp_D_NRN_R_nat0013_nat0012_0572.jpg</td>\n",
       "      <td>1</td>\n",
       "      <td>1482.222501</td>\n",
       "      <td>784.864024</td>\n",
       "      <td>621.201196</td>\n",
       "      <td>362.086544</td>\n",
       "      <td>366.147202</td>\n",
       "      <td>342.715004</td>\n",
       "      <td>288.554644</td>\n",
       "      <td>301.737631</td>\n",
       "      <td>...</td>\n",
       "      <td>39.469802</td>\n",
       "      <td>38.990114</td>\n",
       "      <td>37.914855</td>\n",
       "      <td>39.019128</td>\n",
       "      <td>46.355589</td>\n",
       "      <td>45.869105</td>\n",
       "      <td>45.092569</td>\n",
       "      <td>48.572722</td>\n",
       "      <td>48.738253</td>\n",
       "      <td>72.693481</td>\n",
       "    </tr>\n",
       "    <tr>\n",
       "      <th>1720</th>\n",
       "      <td>Sp_D_NRN_T_sec0098_art0002_0573.jpg</td>\n",
       "      <td>1</td>\n",
       "      <td>1523.457187</td>\n",
       "      <td>568.782862</td>\n",
       "      <td>450.022573</td>\n",
       "      <td>286.526987</td>\n",
       "      <td>258.547764</td>\n",
       "      <td>213.533583</td>\n",
       "      <td>223.286087</td>\n",
       "      <td>188.331114</td>\n",
       "      <td>...</td>\n",
       "      <td>28.963606</td>\n",
       "      <td>26.340244</td>\n",
       "      <td>27.979522</td>\n",
       "      <td>26.176137</td>\n",
       "      <td>31.926438</td>\n",
       "      <td>29.653102</td>\n",
       "      <td>29.737373</td>\n",
       "      <td>41.608645</td>\n",
       "      <td>33.308703</td>\n",
       "      <td>89.632157</td>\n",
       "    </tr>\n",
       "  </tbody>\n",
       "</table>\n",
       "<p>5 rows × 258 columns</p>\n",
       "</div>"
      ],
      "text/plain": [
       "                              image_names  1            2           3  \\\n",
       "1716  Sp_D_NRN_R_arc0051_arc0073_0569.jpg  1  1891.898586  476.644343   \n",
       "1717  Sp_D_NRN_R_art0008_sec0027_0570.jpg  1  1348.348380  534.776422   \n",
       "1718  Sp_D_NRN_R_cha0054_cha0017_0571.jpg  1  1605.189544  804.477093   \n",
       "1719  Sp_D_NRN_R_nat0013_nat0012_0572.jpg  1  1482.222501  784.864024   \n",
       "1720  Sp_D_NRN_T_sec0098_art0002_0573.jpg  1  1523.457187  568.782862   \n",
       "\n",
       "               4           5           6           7           8           9  \\\n",
       "1716  226.568475  252.196192  229.521211  180.469856  190.614167  213.391685   \n",
       "1717  275.465382  287.365557  230.245279  236.286385  201.851711  213.731255   \n",
       "1718  620.934011  447.221841  375.279524  283.169035  314.279600  300.789602   \n",
       "1719  621.201196  362.086544  366.147202  342.715004  288.554644  301.737631   \n",
       "1720  450.022573  286.526987  258.547764  213.533583  223.286087  188.331114   \n",
       "\n",
       "      ...        248        249        250        251        252        253  \\\n",
       "1716  ...  27.379336  27.040679  23.978827  22.632958  23.835544  28.285079   \n",
       "1717  ...  32.907943  25.687967  27.996128  25.256144  30.256779  36.373091   \n",
       "1718  ...  34.558033  35.894729  35.529211  41.143273  39.416597  40.713021   \n",
       "1719  ...  39.469802  38.990114  37.914855  39.019128  46.355589  45.869105   \n",
       "1720  ...  28.963606  26.340244  27.979522  26.176137  31.926438  29.653102   \n",
       "\n",
       "            254        255        256        257  \n",
       "1716  27.892339  33.264917  28.628263  29.346154  \n",
       "1717  30.230063  38.710832  34.857002  34.548036  \n",
       "1718  42.694143  45.798662  42.278111  61.653876  \n",
       "1719  45.092569  48.572722  48.738253  72.693481  \n",
       "1720  29.737373  41.608645  33.308703  89.632157  \n",
       "\n",
       "[5 rows x 258 columns]"
      ]
     },
     "execution_count": 8,
     "metadata": {},
     "output_type": "execute_result"
    }
   ],
   "source": [
    "df=pd.DataFrame(dataframe_list)\n",
    "df.rename(columns = {0: \"image_names\"}, inplace = True)\n",
    "# df['label']=label #To add label column as well\n",
    "\n",
    "df.tail()"
   ]
  },
  {
   "cell_type": "code",
   "execution_count": 9,
   "metadata": {},
   "outputs": [
    {
     "name": "stderr",
     "output_type": "stream",
     "text": [
      "C:\\Users\\User\\AppData\\Local\\Temp\\ipykernel_6384\\460671013.py:2: DeprecationWarning: In a future version, `df.iloc[:, i] = newvals` will attempt to set the values inplace instead of always setting a new array. To retain the old behavior, use either `df[df.columns[i]] = newvals` or, if columns are non-unique, `df.isetitem(i, newvals)`\n",
      "  df.iloc[:,1:] = scaler_norm.fit_transform(df.iloc[:,1:].to_numpy()) # Normalising the values in dataframe.\n"
     ]
    }
   ],
   "source": [
    "scaler_norm = MinMaxScaler() \n",
    "df.iloc[:,1:] = scaler_norm.fit_transform(df.iloc[:,1:].to_numpy()) # Normalising the values in dataframe."
   ]
  },
  {
   "cell_type": "code",
   "execution_count": 10,
   "metadata": {},
   "outputs": [],
   "source": [
    "# path_csv=\"CASIA2_feature.csv\"\n",
    "path_csv=\"CASIA1_feature.csv\"\n",
    "# path_csv=\"Columbia_feature.csv\"\n",
    "\n",
    "df.to_csv(path_csv) #saving dataframe to csv."
   ]
  },
  {
   "cell_type": "markdown",
   "metadata": {},
   "source": [
    "## Classification using the extracted features"
   ]
  },
  {
   "cell_type": "code",
   "execution_count": 11,
   "metadata": {},
   "outputs": [
    {
     "name": "stdout",
     "output_type": "stream",
     "text": [
      "(1721, 256)\n",
      "(1721,)\n"
     ]
    }
   ],
   "source": [
    "#df=pd.read_csv('YOUR_PATH/___features.csv')\n",
    "df=pd.read_csv(\"CASIA1_feature.csv\")\n",
    "array=df.values\n",
    "x_feature=array[:,3:]\n",
    "y_label=array[:,2].astype('int')\n",
    "print(x_feature.shape)\n",
    "print(y_label.shape)"
   ]
  },
  {
   "cell_type": "code",
   "execution_count": 12,
   "metadata": {},
   "outputs": [],
   "source": [
    "# Split the data\n",
    "X_train,X_test,Y_train,Y_test=train_test_split(x_feature,y_label,test_size=0.10,random_state=7)"
   ]
  },
  {
   "cell_type": "code",
   "execution_count": 13,
   "metadata": {},
   "outputs": [
    {
     "data": {
      "text/html": [
       "<style>#sk-container-id-1 {color: black;background-color: white;}#sk-container-id-1 pre{padding: 0;}#sk-container-id-1 div.sk-toggleable {background-color: white;}#sk-container-id-1 label.sk-toggleable__label {cursor: pointer;display: block;width: 100%;margin-bottom: 0;padding: 0.3em;box-sizing: border-box;text-align: center;}#sk-container-id-1 label.sk-toggleable__label-arrow:before {content: \"▸\";float: left;margin-right: 0.25em;color: #696969;}#sk-container-id-1 label.sk-toggleable__label-arrow:hover:before {color: black;}#sk-container-id-1 div.sk-estimator:hover label.sk-toggleable__label-arrow:before {color: black;}#sk-container-id-1 div.sk-toggleable__content {max-height: 0;max-width: 0;overflow: hidden;text-align: left;background-color: #f0f8ff;}#sk-container-id-1 div.sk-toggleable__content pre {margin: 0.2em;color: black;border-radius: 0.25em;background-color: #f0f8ff;}#sk-container-id-1 input.sk-toggleable__control:checked~div.sk-toggleable__content {max-height: 200px;max-width: 100%;overflow: auto;}#sk-container-id-1 input.sk-toggleable__control:checked~label.sk-toggleable__label-arrow:before {content: \"▾\";}#sk-container-id-1 div.sk-estimator input.sk-toggleable__control:checked~label.sk-toggleable__label {background-color: #d4ebff;}#sk-container-id-1 div.sk-label input.sk-toggleable__control:checked~label.sk-toggleable__label {background-color: #d4ebff;}#sk-container-id-1 input.sk-hidden--visually {border: 0;clip: rect(1px 1px 1px 1px);clip: rect(1px, 1px, 1px, 1px);height: 1px;margin: -1px;overflow: hidden;padding: 0;position: absolute;width: 1px;}#sk-container-id-1 div.sk-estimator {font-family: monospace;background-color: #f0f8ff;border: 1px dotted black;border-radius: 0.25em;box-sizing: border-box;margin-bottom: 0.5em;}#sk-container-id-1 div.sk-estimator:hover {background-color: #d4ebff;}#sk-container-id-1 div.sk-parallel-item::after {content: \"\";width: 100%;border-bottom: 1px solid gray;flex-grow: 1;}#sk-container-id-1 div.sk-label:hover label.sk-toggleable__label {background-color: #d4ebff;}#sk-container-id-1 div.sk-serial::before {content: \"\";position: absolute;border-left: 1px solid gray;box-sizing: border-box;top: 0;bottom: 0;left: 50%;z-index: 0;}#sk-container-id-1 div.sk-serial {display: flex;flex-direction: column;align-items: center;background-color: white;padding-right: 0.2em;padding-left: 0.2em;position: relative;}#sk-container-id-1 div.sk-item {position: relative;z-index: 1;}#sk-container-id-1 div.sk-parallel {display: flex;align-items: stretch;justify-content: center;background-color: white;position: relative;}#sk-container-id-1 div.sk-item::before, #sk-container-id-1 div.sk-parallel-item::before {content: \"\";position: absolute;border-left: 1px solid gray;box-sizing: border-box;top: 0;bottom: 0;left: 50%;z-index: -1;}#sk-container-id-1 div.sk-parallel-item {display: flex;flex-direction: column;z-index: 1;position: relative;background-color: white;}#sk-container-id-1 div.sk-parallel-item:first-child::after {align-self: flex-end;width: 50%;}#sk-container-id-1 div.sk-parallel-item:last-child::after {align-self: flex-start;width: 50%;}#sk-container-id-1 div.sk-parallel-item:only-child::after {width: 0;}#sk-container-id-1 div.sk-dashed-wrapped {border: 1px dashed gray;margin: 0 0.4em 0.5em 0.4em;box-sizing: border-box;padding-bottom: 0.4em;background-color: white;}#sk-container-id-1 div.sk-label label {font-family: monospace;font-weight: bold;display: inline-block;line-height: 1.2em;}#sk-container-id-1 div.sk-label-container {text-align: center;}#sk-container-id-1 div.sk-container {/* jupyter's `normalize.less` sets `[hidden] { display: none; }` but bootstrap.min.css set `[hidden] { display: none !important; }` so we also need the `!important` here to be able to override the default hidden behavior on the sphinx rendered scikit-learn.org. See: https://github.com/scikit-learn/scikit-learn/issues/21755 */display: inline-block !important;position: relative;}#sk-container-id-1 div.sk-text-repr-fallback {display: none;}</style><div id=\"sk-container-id-1\" class=\"sk-top-container\"><div class=\"sk-text-repr-fallback\"><pre>SVC(C=32, gamma=0.03125)</pre><b>In a Jupyter environment, please rerun this cell to show the HTML representation or trust the notebook. <br />On GitHub, the HTML representation is unable to render, please try loading this page with nbviewer.org.</b></div><div class=\"sk-container\" hidden><div class=\"sk-item\"><div class=\"sk-estimator sk-toggleable\"><input class=\"sk-toggleable__control sk-hidden--visually\" id=\"sk-estimator-id-1\" type=\"checkbox\" checked><label for=\"sk-estimator-id-1\" class=\"sk-toggleable__label sk-toggleable__label-arrow\">SVC</label><div class=\"sk-toggleable__content\"><pre>SVC(C=32, gamma=0.03125)</pre></div></div></div></div></div>"
      ],
      "text/plain": [
       "SVC(C=32, gamma=0.03125)"
      ]
     },
     "execution_count": 13,
     "metadata": {},
     "output_type": "execute_result"
    }
   ],
   "source": [
    "#train model\n",
    "model_SVC = SVC(C=32,kernel='rbf',gamma=0.03125)\n",
    "#model_SVC = SVC(C=32,gamma=0.03125, kernel='rbf') #Can also try for GridSearch yourself\n",
    "model_SVC.fit(X_train,Y_train) "
   ]
  },
  {
   "cell_type": "code",
   "execution_count": 14,
   "metadata": {},
   "outputs": [],
   "source": [
    "def show_confusion_matrix(actual_values, predicted_values):\n",
    "    confusion_matrix = metrics.confusion_matrix(actual_values, predicted_values)\n",
    "    cm_display = metrics.ConfusionMatrixDisplay(confusion_matrix = confusion_matrix,\n",
    "                                                display_labels = [False, True])\n",
    "    cm_display.plot()\n",
    "    plt.title(\"Confusion Matrix\")\n",
    "    plt.show()\n",
    "    \n",
    "    \n",
    "    \n",
    "def show_cross_validation_score(model_SVC, X_train, Y_train):\n",
    "    kfold=KFold(n_splits=10)\n",
    "    cv_results=cross_val_score(model_SVC, X_train, Y_train,cv=kfold, scoring='accuracy')\n",
    "    msg=\"%s %f %s\" % (\"Overall Accuracy\",cv_results.mean()*100,\"%\")\n",
    "    x = np.array([\"Fold 1\", \"Fold 2\", \"Fold 3\", \"Fold 4\", \"Fold 5\",\n",
    "                  \"Fold 6\", \"Fold 7\", \"Fold 8\", \"Fold 9\", \"Fold 10\"])\n",
    "    plt.barh(x, cv_results * 100, color = \"green\", height = .5)\n",
    "    plt.xlabel(\"Folds\")\n",
    "    plt.ylabel(\"Accuracy\")\n",
    "    plt.title(\"Accuracy in each fold in cross validation \" + \"(\" + msg + \")\")\n",
    "    plt.show()\n",
    "    \n",
    "    \n",
    "    \n",
    "def show_classification_report(actual_values, predicted_values):\n",
    "    labels = np.arange(2)\n",
    "    target_names = list(\"01\")\n",
    "    clf_report = classification_report(actual_values,\n",
    "                                   predicted_values,\n",
    "                                   labels=labels,\n",
    "                                   target_names=target_names,\n",
    "                                   output_dict=True)\n",
    "    # .iloc[:-1, :] to exclude support\n",
    "    sns.heatmap(pd.DataFrame(clf_report).iloc[:-1, :].T, annot=True)\n",
    "    \n",
    "    \n",
    "    \n",
    "def show_model_performance(actual_values, predicted_values):\n",
    "    print(\"Model Accuracy : \")\n",
    "    print(accuracy_score(actual_values,predicted_values))\n",
    "    print(\"Cross Validation Result : \")\n",
    "    show_cross_validation_score(model_SVC,X_train,Y_train)\n",
    "    print(\"Confusion Matrix : \")\n",
    "    show_confusion_matrix(actual_values, predicted_values)\n",
    "    print(\"Other Statistics : \")\n",
    "    show_classification_report(actual_values, predicted_values)"
   ]
  },
  {
   "cell_type": "code",
   "execution_count": null,
   "metadata": {
    "scrolled": true
   },
   "outputs": [],
   "source": []
  },
  {
   "cell_type": "code",
   "execution_count": 15,
   "metadata": {},
   "outputs": [],
   "source": [
    "#test model\n",
    "predictions=model_SVC.predict(X_test)"
   ]
  },
  {
   "cell_type": "code",
   "execution_count": 16,
   "metadata": {},
   "outputs": [
    {
     "name": "stdout",
     "output_type": "stream",
     "text": [
      "Model Accuracy : \n",
      "0.9710982658959537\n",
      "Cross Validation Result : \n"
     ]
    },
    {
     "data": {
      "image/png": "[encoded data removed]",
      "text/plain": [
       "<Figure size 640x480 with 1 Axes>"
      ]
     },
     "metadata": {},
     "output_type": "display_data"
    },
    {
     "name": "stdout",
     "output_type": "stream",
     "text": [
      "Confusion Matrix : \n"
     ]
    },
    {
     "data": {
      "image/png": "[encoded data removed]",
      "text/plain": [
       "<Figure size 640x480 with 2 Axes>"
      ]
     },
     "metadata": {},
     "output_type": "display_data"
    },
    {
     "name": "stdout",
     "output_type": "stream",
     "text": [
      "Other Statistics : \n"
     ]
    },
    {
     "data": {
      "image/png": "[encoded data removed]",
      "text/plain": [
       "<Figure size 640x480 with 2 Axes>"
      ]
     },
     "metadata": {},
     "output_type": "display_data"
    }
   ],
   "source": [
    "#displaying different reports on the model\n",
    "show_model_performance(Y_test, predictions)"
   ]
  },
  {
   "cell_type": "code",
   "execution_count": null,
   "metadata": {},
   "outputs": [],
   "source": []
  },
  {
   "cell_type": "code",
   "execution_count": null,
   "metadata": {},
   "outputs": [],
   "source": []
  },
  {
   "cell_type": "code",
   "execution_count": null,
   "metadata": {},
   "outputs": [],
   "source": []
  },
  {
   "cell_type": "code",
   "execution_count": null,
   "metadata": {},
   "outputs": [],
   "source": []
  },
  {
   "cell_type": "code",
   "execution_count": null,
   "metadata": {},
   "outputs": [],
   "source": []
  },
  {
   "cell_type": "code",
   "execution_count": null,
   "metadata": {},
   "outputs": [],
   "source": []
  },
  {
   "cell_type": "code",
   "execution_count": null,
   "metadata": {},
   "outputs": [],
   "source": []
  },
  {
   "cell_type": "code",
   "execution_count": null,
   "metadata": {},
   "outputs": [],
   "source": []
  }
 ],
 "metadata": {
  "kernelspec": {
   "display_name": "Python 3 (ipykernel)",
   "language": "python",
   "name": "python3"
  },
  "language_info": {
   "codemirror_mode": {
    "name": "ipython",
    "version": 3
   },
   "file_extension": ".py",
   "mimetype": "text/x-python",
   "name": "python",
   "nbconvert_exporter": "python",
   "pygments_lexer": "ipython3",
   "version": "3.10.9"
  },
  "varInspector": {
   "cols": {
    "lenName": 16,
    "lenType": 16,
    "lenVar": 40
   },
   "kernels_config": {
    "python": {
     "delete_cmd_postfix": "",
     "delete_cmd_prefix": "del ",
     "library": "var_list.py",
     "varRefreshCmd": "print(var_dic_list())"
    },
    "r": {
     "delete_cmd_postfix": ") ",
     "delete_cmd_prefix": "rm(",
     "library": "var_list.r",
     "varRefreshCmd": "cat(var_dic_list()) "
    }
   },
   "types_to_exclude": [
    "module",
    "function",
    "builtin_function_or_method",
    "instance",
    "_Feature"
   ],
   "window_display": false
  }
 },
 "nbformat": 4,
 "nbformat_minor": 4
}
